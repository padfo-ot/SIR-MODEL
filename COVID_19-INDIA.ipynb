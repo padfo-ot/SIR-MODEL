{
 "cells": [
  {
   "cell_type": "code",
   "execution_count": null,
   "metadata": {
    "collapsed": true
   },
   "outputs": [],
   "source": [
    "#ANALYSIS OF INDIA-COVID CASES\n",
    "import pandas as pd\n",
    "import matplotlib.pyplot as plt\n",
    "import plotly.express as ps\n",
    "%matplotlib notebook\n",
    "\n",
    "df= pd.read_csv(r\"COVID_data.csv\")\n",
    "ax=plt.gca()\n",
    "df.plot(kind=\"line\",x=\"Day\",y=\"Total_Confirmed\",color=\"red\",ax=ax)\n",
    "df.plot(kind=\"line\",x=\"Day\",y=\"Total_Recovered\",color=\"green\",ax=ax)\n",
    "df.plot(kind=\"line\",x=\"Day\",y=\"Total_Deceased\",color=\"black\",ax=ax)\n",
    "df.plot(kind=\"line\",x=\"Day\",y=\"Daily_Confirmed\",color=\"blue\") \n",
    "\n",
    "fig = ps.line(df,x=\"Day\",y=\"Daily_Confirmed\")\n",
    "fig2 = ps.line(df,x=\"Day\",y=\"Total_Confirmed\",log_y = True)\n",
    "plt.yscale(\"log\")\n",
    "plt.show()\n",
    "fig2.show()\n"
   ]
  }
 ],
 "metadata": {
  "kernelspec": {
   "display_name": "Python [default]",
   "language": "python",
   "name": "python3"
  },
  "language_info": {
   "codemirror_mode": {
    "name": "ipython",
    "version": 3
   },
   "file_extension": ".py",
   "mimetype": "text/x-python",
   "name": "python",
   "nbconvert_exporter": "python",
   "pygments_lexer": "ipython3",
   "version": "3.5.2"
  }
 },
 "nbformat": 4,
 "nbformat_minor": 2
}
